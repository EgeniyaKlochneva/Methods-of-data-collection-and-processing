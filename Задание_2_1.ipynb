{
  "nbformat": 4,
  "nbformat_minor": 0,
  "metadata": {
    "colab": {
      "name": "Lesson2.ipynb",
      "provenance": [],
      "collapsed_sections": []
    },
    "kernelspec": {
      "name": "python3",
      "display_name": "Python 3"
    },
    "language_info": {
      "name": "python"
    }
  },
  "cells": [
    {
      "cell_type": "code",
      "metadata": {
        "id": "_8AZhdqnkj8a"
      },
      "source": [
        "import requests\n",
        "from bs4 import BeautifulSoup as bs\n",
        "import csv\n",
        "import re\n"
      ],
      "execution_count": 64,
      "outputs": []
    },
    {
      "cell_type": "code",
      "metadata": {
        "id": "v65vRFF4v4XX"
      },
      "source": [
        "\n",
        "vacancy = 'аналитик'\n"
      ],
      "execution_count": 65,
      "outputs": []
    },
    {
      "cell_type": "code",
      "metadata": {
        "id": "n39F6XKIv-G1"
      },
      "source": [
        "def hh_parser(vacancy):\n",
        "    headers = {'User-Agent': 'Mozilla/5.0 (Windows NT 10.0) AppleWebKit/537.36 (KHTML, like Gecko) Chrome/90.0.4430.212 Safari/537.36'}\n",
        "    url = 'https://hh.ru'\n",
        "    vacancy_output = []\n",
        "    params = {\n",
        "        'text': vacancy,\n",
        "        'search_field':'name',\n",
        "        'items_on_page':'50',\n",
        "        'page':0\n",
        "    }\n",
        "\n",
        "  "
      ],
      "execution_count": 66,
      "outputs": []
    },
    {
      "cell_type": "code",
      "metadata": {
        "id": "JVlhnE6-9r5L"
      },
      "source": [
        "def hh_get_vacancy_info(element):\n",
        "    vacancy_base = {}\n",
        "    # вакансия\n",
        "    vacancy_name = element.find(\n",
        "        'a', {\n",
        "            'data-qa': 'vacancy-serp__vacancy-title'}).getText().replace(u'\\xa0', u' ')\n",
        "    vacancy_base['vacancy_name'] = vacancy_name\n",
        "\n",
        "    # работодатель\n",
        "    employer_name = element.find(\n",
        "        'a', {\n",
        "            'data-qa': 'vacancy-serp__vacancy-employer'}).getText().replace(\n",
        "        u'\\xa0', u' ').split(', ')[0]\n",
        "    vacancy_base['employer_name'] = employer_name\n",
        "\n",
        "    # зарплата\n",
        "    salary = element.find(\n",
        "        'span', {\n",
        "            'data-qa': 'vacancy-serp__vacancy-compensation'})\n",
        "    salary_currency = None\n",
        "    if not salary:\n",
        "        salary_min = None\n",
        "        salary_max = None\n",
        "        salary_currency = None\n",
        "    else:\n",
        "        salary = salary.getText().replace(u'\\u202f', u'')\n",
        "        salary = re.split(r'\\s|-', salary)\n",
        "        if salary[0] == 'до':\n",
        "            salary_min = None\n",
        "            salary_max = int(salary[1])\n",
        "            salary_currency = str(salary[2])\n",
        "        elif salary[0] == 'от':\n",
        "            salary_min = int(salary[1])\n",
        "            salary_max = None\n",
        "        else:\n",
        "            salary_min = int(salary[0])\n",
        "            salary_max = int(salary[2])\n",
        "            salary_currency = str(salary[3])\n",
        "    vacancy_base['salary_min'] = salary_min\n",
        "    vacancy_base['salary_max'] = salary_max\n",
        "    vacancy_base['salary_currency'] = salary_currency\n",
        "\n",
        "    # ссылка на саму вакансию\n",
        "    vacancy_url = element.find(\n",
        "        'a', {'data-qa': 'vacancy-serp__vacancy-title'}).get('href').split('?')[0]\n",
        "    vacancy_base['vacancy_url'] = vacancy_url\n",
        "    return vacancy_base"
      ],
      "execution_count": 68,
      "outputs": []
    },
    {
      "cell_type": "code",
      "metadata": {
        "colab": {
          "base_uri": "https://localhost:8080/",
          "height": 231
        },
        "id": "9ykTEmg_Me6Y",
        "outputId": "ec45de84-4223-48c7-db75-628959aefe8b"
      },
      "source": [
        "params['page'] = page_number\n",
        "\n",
        "while page_number in range(0, 100):\n",
        "      response = requests.get(url + '/search/vacancy', params=params, headers=headers)\n",
        "      vacancy_page = bs(response.text, 'html.parser')\n",
        "      vacancy_list = vacancy_page.find_all('div', {'class': 'vacancy-serp-item'})\n",
        "      vacancy_page.find('a', {'data-qa': 'pager-next'}).find('span')\n",
        "      for vacancy in vacancy_list:\n",
        "        vacancy_all.append(hh_get_vacancy_info(vacancy))\n",
        "else:\n",
        "  print\n",
        "   \n",
        "\n",
        "return vacancy_all\n"
      ],
      "execution_count": 72,
      "outputs": [
        {
          "output_type": "error",
          "ename": "NameError",
          "evalue": "ignored",
          "traceback": [
            "\u001b[0;31m---------------------------------------------------------------------------\u001b[0m",
            "\u001b[0;31mNameError\u001b[0m                                 Traceback (most recent call last)",
            "\u001b[0;32m<ipython-input-72-ce3e599ccd54>\u001b[0m in \u001b[0;36m<module>\u001b[0;34m()\u001b[0m\n\u001b[0;32m----> 1\u001b[0;31m \u001b[0mparams\u001b[0m\u001b[0;34m[\u001b[0m\u001b[0;34m'page'\u001b[0m\u001b[0;34m]\u001b[0m \u001b[0;34m=\u001b[0m \u001b[0mpage_number\u001b[0m\u001b[0;34m\u001b[0m\u001b[0;34m\u001b[0m\u001b[0m\n\u001b[0m\u001b[1;32m      2\u001b[0m \u001b[0;34m\u001b[0m\u001b[0m\n\u001b[1;32m      3\u001b[0m \u001b[0;32mwhile\u001b[0m \u001b[0mpage_number\u001b[0m \u001b[0;32min\u001b[0m \u001b[0mrange\u001b[0m\u001b[0;34m(\u001b[0m\u001b[0;36m0\u001b[0m\u001b[0;34m,\u001b[0m \u001b[0;36m100\u001b[0m\u001b[0;34m)\u001b[0m\u001b[0;34m:\u001b[0m\u001b[0;34m\u001b[0m\u001b[0;34m\u001b[0m\u001b[0m\n\u001b[1;32m      4\u001b[0m       \u001b[0mresponse\u001b[0m \u001b[0;34m=\u001b[0m \u001b[0mrequests\u001b[0m\u001b[0;34m.\u001b[0m\u001b[0mget\u001b[0m\u001b[0;34m(\u001b[0m\u001b[0murl\u001b[0m \u001b[0;34m+\u001b[0m \u001b[0;34m'/search/vacancy'\u001b[0m\u001b[0;34m,\u001b[0m \u001b[0mparams\u001b[0m\u001b[0;34m=\u001b[0m\u001b[0mparams\u001b[0m\u001b[0;34m,\u001b[0m \u001b[0mheaders\u001b[0m\u001b[0;34m=\u001b[0m\u001b[0mheaders\u001b[0m\u001b[0;34m)\u001b[0m\u001b[0;34m\u001b[0m\u001b[0;34m\u001b[0m\u001b[0m\n\u001b[1;32m      5\u001b[0m       \u001b[0mvacancy_page\u001b[0m \u001b[0;34m=\u001b[0m \u001b[0mbs\u001b[0m\u001b[0;34m(\u001b[0m\u001b[0mresponse\u001b[0m\u001b[0;34m.\u001b[0m\u001b[0mtext\u001b[0m\u001b[0;34m,\u001b[0m \u001b[0;34m'html.parser'\u001b[0m\u001b[0;34m)\u001b[0m\u001b[0;34m\u001b[0m\u001b[0;34m\u001b[0m\u001b[0m\n",
            "\u001b[0;31mNameError\u001b[0m: name 'params' is not defined"
          ]
        }
      ]
    }
  ]
}